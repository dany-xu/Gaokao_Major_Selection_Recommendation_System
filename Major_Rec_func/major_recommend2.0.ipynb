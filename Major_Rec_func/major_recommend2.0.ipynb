{
 "cells": [
  {
   "cell_type": "code",
   "execution_count": 28,
   "metadata": {},
   "outputs": [],
   "source": [
    "import sqlite3 as sq\n",
    "import pandas as pd\n",
    "import numpy as np\n",
    "from pandas import DataFrame as df\n",
    "import pprint\n",
    "# from interval import Interval as intt\n",
    "from sklearn import metrics\n",
    "import warnings\n",
    "warnings.filterwarnings(\"ignore\")"
   ]
  },
  {
   "cell_type": "code",
   "execution_count": 3,
   "metadata": {},
   "outputs": [],
   "source": [
    "# 分数预估\n",
    "conn = sq.connect('高考数据库.sqlite3')     # 连接数据库\n",
    "c = conn.cursor()\n",
    "\n",
    "c.execute(\"SELECT name FROM sqlite_master WHERE type='table'\")     # 读取表名\n",
    "table = c.fetchall()\n",
    "table\n",
    "cates = table[10][0]     # 获取类名\n",
    "mmajors = table[14][0]     # 获取专业表名\n",
    "colleges = table[15][0]     # 获取学校名\n",
    "province = table[12][0]\n",
    "rankings = table[13][0]\n",
    "fir = table[11][0]\n",
    "\n",
    "# 获取表的列名、列名结构\n",
    "def col(form):\n",
    "    c.execute(\"SELECT * FROM {}\".format(form))\n",
    "    col_name = [tuple[0] for tuple in c.description]\n",
    "    \n",
    "    c.execute(\"PRAGMA table_info({})\".format(form))\n",
    "    col_structure = c.fetchall()\n",
    "    \n",
    "    return col_name,col_structure\n",
    "\n",
    "# 获取表的内容（DF结构）\n",
    "def f_df(form):\n",
    "    sql = \"SELECT * FROM {}\".format(form)\n",
    "    values = c.execute(sql)\n",
    "    f_df = pd.DataFrame(data = values)\n",
    "    return f_df"
   ]
  },
  {
   "cell_type": "code",
   "execution_count": 15,
   "metadata": {},
   "outputs": [],
   "source": [
    "# 河南一分一档表\n",
    "rankings21 = f_df(rankings)\n",
    "rankings21.columns = col(rankings)[0]\n",
    "rankings21 = rankings21[rankings21['year'] == 2021]\n",
    "rankings21 = rankings21[rankings21['provinceID_id'] == 1]\n",
    "colleges21 = f_df(colleges)\n"
   ]
  },
  {
   "cell_type": "code",
   "execution_count": 16,
   "metadata": {},
   "outputs": [],
   "source": [
    "# 专业学校推荐\n",
    "alldf = pd.read_csv('alldata1.0.csv',encoding='utf-8',index_col=0)\n",
    "\n",
    "def rec0(cate,score,prov,c_rank,major,m_rank,risk):\n",
    "    \n",
    "    # 筛选文理科\n",
    "    df = alldf[alldf['categoryID_id'] == cate]     \n",
    "    \n",
    "    # 河南2021一分一档对照表\n",
    "    rec_rank = rankings21[rankings21['categoryID_id'] == cate]     \n",
    "    ranking = rec_rank[rec_rank['score'] == score]['rank'].values[0]\n",
    "    print(ranking)\n",
    "    \n",
    "    # 筛选专业\n",
    "    df = df[df['c1'] == major[0]]\n",
    "    if major[1] != None:\n",
    "        df = df[df['c2'] == major[1]]\n",
    "            \n",
    "    # 统计综合得分\n",
    "    for provID in df['provinceLoc']:\n",
    "        if provID == prov:\n",
    "            df.loc[df['provinceLoc'] == prov,'sum_score'] = (df['cityScore']*(1 + c_rank/10) + df['majorScore']*m_rank) / (c_rank + m_rank)\n",
    "        else:\n",
    "            df.loc[df['provinceLoc'] != prov,'sum_score'] = (df['cityScore']*1 + df['majorScore']*m_rank) / (c_rank + m_rank)\n",
    "    \n",
    "    # 学校代码转换学校名称\n",
    "    for dfs in df['collegeID_id']:\n",
    "        df.loc[df['collegeID_id'] == dfs,'college'] = colleges21[colleges21[0] == dfs][1].values[0]\n",
    "    df = df.sort_values(['preRanking'],ascending=True)\n",
    "\n",
    "    # 报考排名范围：0.9ranking-1.5ranking\n",
    "    if risk == 1:     # 输出所有符合条件的推荐方案\n",
    "        df_temp1 = df[df['preRanking'] >= ranking*0.9]\n",
    "        df_temp2 = df_temp1[df_temp1['preRanking'] < ranking*1.0]\n",
    "        df_temp3 = df[df['preRanking'] >= ranking*1.0][0:6]\n",
    "        df = pd.concat([df_temp2,df_temp3],axis=0 ,ignore_index=True)\n",
    "        if df.empty:\n",
    "            df = df[df['preRanking'] >= ranking*1.0][0:6]\n",
    "    elif risk ==2:     # 输出报考风险相对大的推荐方案\n",
    "#         df = df[df['preRanking'] < ranking*1.0]    \n",
    "        df = df[df['preRanking'] >= ranking*0.9]\n",
    "        df = df[0:6]\n",
    "    else:     # 输出报考稳妥的推荐方案 \n",
    "#         df = df[df['preRanking'] < ranking*1.5]    \n",
    "        df = df[df['preRanking'] >= ranking*1.0]\n",
    "        df = df[0:6]\n",
    "        \n",
    "        \n",
    "    df = df.sort_values(['sum_score'],ascending=False)\n",
    "    df = df.loc[:,('provinceLoc','cityLoc','college','majorName','preRanking','sum_score')]\n",
    "    \n",
    "    return df\n",
    "   "
   ]
  },
  {
   "cell_type": "code",
   "execution_count": 35,
   "metadata": {},
   "outputs": [],
   "source": [
    "def rec(cate,score,prov,c_rank,majors,m_rank,risk):\n",
    "    '''\n",
    "    输入为：文理科，高考分数，期望省份，地域重要性，期望专业（多选），专业重要性，风险性\n",
    "    输出为：该推荐大学+专业的省市位置，大学名，专业名，预计所需最低排名，推荐指数\n",
    "    '''\n",
    "    \n",
    "    # 筛选文理科\n",
    "    df = alldf[alldf['categoryID_id'] == cate]     \n",
    "    \n",
    "    # 河南2021一分一档对照表\n",
    "    rec_rank = rankings21[rankings21['categoryID_id'] == cate]     \n",
    "    if score>=rec_rank.describe()['score']['max']:\n",
    "        ranking=rec_rank.describe()['rank']['min']\n",
    "    else:\n",
    "        ranking = rec_rank[rec_rank['score'] == score]['rank'].values[0]\n",
    "    print(ranking)\n",
    "    \n",
    "    df_pass=pd.DataFrame()\n",
    "    \n",
    "    for major in majors:\n",
    "        # 筛选专业\n",
    "        if major[1]==None:#输入 c1 None\n",
    "            df_temp = df[df['c1'].str.contains(major[0])]\n",
    "            df_pass = pd.concat([df_pass,df_temp],axis=0 ,ignore_index=True)\n",
    "        else:#输入c1 c2\n",
    "            df_temp = df[df['c2'].str.contains(major[1])]\n",
    "            df_temp1 = df[(df['c1'].str.contains(major[0])) & (df['c2']=='')]\n",
    "            df_pass = pd.concat([df_pass,df_temp,df_temp1],axis=0 ,ignore_index=True)\n",
    "        \n",
    "    df=df_pass.drop_duplicates()\n",
    "    \n",
    "    # 统计综合得分\n",
    "    for provID in df['provinceLoc']:\n",
    "        if provID == prov:\n",
    "            df.loc[df['provinceLoc'] == prov,'sum_score'] = (df['cityScore']*(1 + c_rank/10) + df['majorScore']*m_rank) / (c_rank + m_rank)\n",
    "        else:\n",
    "            df.loc[df['provinceLoc'] != prov,'sum_score'] = (df['cityScore']*1 + df['majorScore']*m_rank) / (c_rank + m_rank)\n",
    "            \n",
    "    \n",
    "    # 学校代码转换学校名称\n",
    "    for dfs in df['collegeID_id']:\n",
    "        df.loc[df['collegeID_id'] == dfs,'college'] = colleges21[colleges21[0] == dfs][1].values[0]\n",
    "    df = df.sort_values(['preRanking'],ascending=True)\n",
    "\n",
    "    # 报考排名范围：0.9ranking-1.5ranking\n",
    "    if risk == 1:     # 输出所有符合条件的推荐方案\n",
    "        df_temp1 = df[df['preRanking'] >= ranking*0.9]\n",
    "        df_temp2 = df_temp1[df_temp1['preRanking'] < ranking*1.0]\n",
    "        df_temp3 = df[df['preRanking'] >= ranking*1.0][0:6]\n",
    "        df = pd.concat([df_temp2,df_temp3],axis=0 ,ignore_index=True)\n",
    "        df = df[0:12]\n",
    "        if df.empty:\n",
    "            df = df[df['preRanking'] >= ranking*1.0][0:6]\n",
    "    elif risk ==2:     # 输出报考风险相对大的推荐方案\n",
    "#         df = df[df['preRanking'] < ranking*1.0]    \n",
    "        df = df[df['preRanking'] >= ranking*0.9]\n",
    "        df = df[0:6]\n",
    "    else:     # 输出报考稳妥的推荐方案 \n",
    "#         df = df[df['preRanking'] < ranking*1.5]    \n",
    "        df = df[df['preRanking'] >= ranking*1.0]\n",
    "        df = df[0:6]\n",
    "    \n",
    "    max_score=df.describe()['sum_score']['max']\n",
    "    df['sum_score']=df['sum_score']/max_score*100\n",
    "        \n",
    "    df = df.sort_values(['sum_score'],ascending=False,ignore_index=True)\n",
    "    df = df.loc[:,('provinceLoc','cityLoc','college','majorName','preRanking','sum_score')]\n",
    "    \n",
    "    return df"
   ]
  },
  {
   "cell_type": "code",
   "execution_count": 37,
   "metadata": {},
   "outputs": [
    {
     "name": "stdout",
     "output_type": "stream",
     "text": [
      "982\n"
     ]
    },
    {
     "data": {
      "text/html": [
       "<div>\n",
       "<style scoped>\n",
       "    .dataframe tbody tr th:only-of-type {\n",
       "        vertical-align: middle;\n",
       "    }\n",
       "\n",
       "    .dataframe tbody tr th {\n",
       "        vertical-align: top;\n",
       "    }\n",
       "\n",
       "    .dataframe thead th {\n",
       "        text-align: right;\n",
       "    }\n",
       "</style>\n",
       "<table border=\"1\" class=\"dataframe\">\n",
       "  <thead>\n",
       "    <tr style=\"text-align: right;\">\n",
       "      <th></th>\n",
       "      <th>provinceLoc</th>\n",
       "      <th>cityLoc</th>\n",
       "      <th>college</th>\n",
       "      <th>majorName</th>\n",
       "      <th>preRanking</th>\n",
       "      <th>sum_score</th>\n",
       "    </tr>\n",
       "  </thead>\n",
       "  <tbody>\n",
       "    <tr>\n",
       "      <th>0</th>\n",
       "      <td>北京市</td>\n",
       "      <td>北京市</td>\n",
       "      <td>北京航空航天大学</td>\n",
       "      <td>工科试验班类(航空航天类)</td>\n",
       "      <td>1159</td>\n",
       "      <td>100.000000</td>\n",
       "    </tr>\n",
       "    <tr>\n",
       "      <th>1</th>\n",
       "      <td>北京市</td>\n",
       "      <td>北京市</td>\n",
       "      <td>北京航空航天大学</td>\n",
       "      <td>工科试验班类(医工交叉试验班)</td>\n",
       "      <td>953</td>\n",
       "      <td>95.296823</td>\n",
       "    </tr>\n",
       "    <tr>\n",
       "      <th>2</th>\n",
       "      <td>北京市</td>\n",
       "      <td>北京市</td>\n",
       "      <td>北京航空航天大学</td>\n",
       "      <td>工科试验班类(国际通用工程学院)</td>\n",
       "      <td>953</td>\n",
       "      <td>94.374631</td>\n",
       "    </tr>\n",
       "    <tr>\n",
       "      <th>3</th>\n",
       "      <td>上海市</td>\n",
       "      <td>上海市</td>\n",
       "      <td>同济大学</td>\n",
       "      <td>工科试验班(建筑规划景观与设计类)</td>\n",
       "      <td>1272</td>\n",
       "      <td>94.144544</td>\n",
       "    </tr>\n",
       "    <tr>\n",
       "      <th>4</th>\n",
       "      <td>北京市</td>\n",
       "      <td>北京市</td>\n",
       "      <td>北京航空航天大学</td>\n",
       "      <td>工科试验班类(信息类)</td>\n",
       "      <td>953</td>\n",
       "      <td>93.729097</td>\n",
       "    </tr>\n",
       "    <tr>\n",
       "      <th>5</th>\n",
       "      <td>湖北省</td>\n",
       "      <td>武汉市</td>\n",
       "      <td>华中科技大学</td>\n",
       "      <td>计算机科学与技术(启明本硕博实验班)</td>\n",
       "      <td>953</td>\n",
       "      <td>91.333089</td>\n",
       "    </tr>\n",
       "    <tr>\n",
       "      <th>6</th>\n",
       "      <td>湖北省</td>\n",
       "      <td>武汉市</td>\n",
       "      <td>华中科技大学</td>\n",
       "      <td>计算机科学与技术(计算机卓越计划实验班)</td>\n",
       "      <td>953</td>\n",
       "      <td>91.333089</td>\n",
       "    </tr>\n",
       "    <tr>\n",
       "      <th>7</th>\n",
       "      <td>湖北省</td>\n",
       "      <td>武汉市</td>\n",
       "      <td>华中科技大学</td>\n",
       "      <td>电气工程及其自动化(启明本硕博实验班)</td>\n",
       "      <td>1272</td>\n",
       "      <td>91.333089</td>\n",
       "    </tr>\n",
       "    <tr>\n",
       "      <th>8</th>\n",
       "      <td>上海市</td>\n",
       "      <td>上海市</td>\n",
       "      <td>同济大学</td>\n",
       "      <td>工科试验班(信息类)</td>\n",
       "      <td>1272</td>\n",
       "      <td>86.163768</td>\n",
       "    </tr>\n",
       "    <tr>\n",
       "      <th>9</th>\n",
       "      <td>湖北省</td>\n",
       "      <td>武汉市</td>\n",
       "      <td>华中科技大学</td>\n",
       "      <td>光电信息科学与工程(王大珩光电创新实验班)</td>\n",
       "      <td>1159</td>\n",
       "      <td>85.846049</td>\n",
       "    </tr>\n",
       "    <tr>\n",
       "      <th>10</th>\n",
       "      <td>黑龙江省</td>\n",
       "      <td>哈尔滨市</td>\n",
       "      <td>哈尔滨工业大学</td>\n",
       "      <td>工科试验班（英才本硕博连读）</td>\n",
       "      <td>1159</td>\n",
       "      <td>81.715567</td>\n",
       "    </tr>\n",
       "  </tbody>\n",
       "</table>\n",
       "</div>"
      ],
      "text/plain": [
       "   provinceLoc cityLoc   college              majorName  preRanking  \\\n",
       "0          北京市     北京市  北京航空航天大学          工科试验班类(航空航天类)        1159   \n",
       "1          北京市     北京市  北京航空航天大学        工科试验班类(医工交叉试验班)         953   \n",
       "2          北京市     北京市  北京航空航天大学       工科试验班类(国际通用工程学院)         953   \n",
       "3          上海市     上海市      同济大学      工科试验班(建筑规划景观与设计类)        1272   \n",
       "4          北京市     北京市  北京航空航天大学            工科试验班类(信息类)         953   \n",
       "5          湖北省     武汉市    华中科技大学     计算机科学与技术(启明本硕博实验班)         953   \n",
       "6          湖北省     武汉市    华中科技大学   计算机科学与技术(计算机卓越计划实验班)         953   \n",
       "7          湖北省     武汉市    华中科技大学    电气工程及其自动化(启明本硕博实验班)        1272   \n",
       "8          上海市     上海市      同济大学             工科试验班(信息类)        1272   \n",
       "9          湖北省     武汉市    华中科技大学  光电信息科学与工程(王大珩光电创新实验班)        1159   \n",
       "10        黑龙江省    哈尔滨市   哈尔滨工业大学         工科试验班（英才本硕博连读）        1159   \n",
       "\n",
       "     sum_score  \n",
       "0   100.000000  \n",
       "1    95.296823  \n",
       "2    94.374631  \n",
       "3    94.144544  \n",
       "4    93.729097  \n",
       "5    91.333089  \n",
       "6    91.333089  \n",
       "7    91.333089  \n",
       "8    86.163768  \n",
       "9    85.846049  \n",
       "10   81.715567  "
      ]
     },
     "execution_count": 37,
     "metadata": {},
     "output_type": "execute_result"
    }
   ],
   "source": [
    "rec(2,675,'北京省',5,[['工学',None]],3,1)"
   ]
  },
  {
   "cell_type": "code",
   "execution_count": 34,
   "metadata": {},
   "outputs": [
    {
     "data": {
      "text/plain": [
       "0.9090909090909091"
      ]
     },
     "execution_count": 34,
     "metadata": {},
     "output_type": "execute_result"
    }
   ],
   "source": [
    "1/1.1"
   ]
  },
  {
   "cell_type": "markdown",
   "metadata": {},
   "source": [
    "## 用不上的函数"
   ]
  },
  {
   "cell_type": "code",
   "execution_count": 102,
   "metadata": {},
   "outputs": [
    {
     "data": {
      "text/plain": [
       "True"
      ]
     },
     "execution_count": 102,
     "metadata": {},
     "output_type": "execute_result"
    }
   ],
   "source": [
    "# 暂时用不上的函数\n",
    "def mins(college,major):\n",
    "    df = alldf[alldf['collegeID_id'] == college]\n",
    "    df = df[df['c1'] == major[0]]\n",
    "    df = df[df['c2'] == major[1]]\n",
    "    minscore = df[df['minScore'] == min(df['minScore'])]\n",
    "    return minscore"
   ]
  },
  {
   "cell_type": "code",
   "execution_count": 269,
   "metadata": {},
   "outputs": [
    {
     "data": {
      "text/plain": [
       "True"
      ]
     },
     "execution_count": 269,
     "metadata": {},
     "output_type": "execute_result"
    }
   ],
   "source": [
    "ttt = rankings21[rankings21['score'] == 750]\n",
    "ttt.empty"
   ]
  },
  {
   "cell_type": "code",
   "execution_count": 273,
   "metadata": {},
   "outputs": [
    {
     "data": {
      "text/plain": [
       "1185"
      ]
     },
     "execution_count": 273,
     "metadata": {},
     "output_type": "execute_result"
    }
   ],
   "source": [
    "rankings21.shape[0]"
   ]
  },
  {
   "cell_type": "code",
   "execution_count": null,
   "metadata": {},
   "outputs": [],
   "source": []
  }
 ],
 "metadata": {
  "kernelspec": {
   "display_name": "Python 3",
   "language": "python",
   "name": "python3"
  },
  "language_info": {
   "codemirror_mode": {
    "name": "ipython",
    "version": 3
   },
   "file_extension": ".py",
   "mimetype": "text/x-python",
   "name": "python",
   "nbconvert_exporter": "python",
   "pygments_lexer": "ipython3",
   "version": "3.8.5"
  }
 },
 "nbformat": 4,
 "nbformat_minor": 4
}
